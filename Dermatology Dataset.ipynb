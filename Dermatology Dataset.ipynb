{
 "cells": [
  {
   "cell_type": "markdown",
   "metadata": {},
   "source": [
    "# DERMATOLOGY DATABASE"
   ]
  },
  {
   "cell_type": "markdown",
   "metadata": {},
   "source": [
    "# Data Set Infromation:"
   ]
  },
  {
   "cell_type": "markdown",
   "metadata": {},
   "source": [
    "This database contains 34 attributes, 33 of which are linear valued and one of them is nominal. \n",
    "\n",
    "Number of Instances: 366\n",
    "Number of Attributes: 34\n",
    "\n",
    "Attribute Information:\n",
    "\n",
    "Clinical Attributes: (take values 0, 1, 2, 3, unless otherwise indicated)\n",
    "\n",
    "      1: erythema\n",
    "      2: scaling\n",
    "      3: definite borders\n",
    "      4: itching\n",
    "      5: koebner phenomenon\n",
    "      6: polygonal papules\n",
    "      7: follicular papules\n",
    "      8: oral mucosal involvement\n",
    "      9: knee and elbow involvement\n",
    "     10: scalp involvement\n",
    "     11: family history, (0 or 1)\n",
    "     34: Age (linear)\n",
    "     \n",
    "Histopathological Attributes: (take values 0, 1, 2, 3)\n",
    "\n",
    "     12: melanin incontinence\n",
    "     13: eosinophils in the infiltrate\n",
    "     14: PNL infiltrate\n",
    "     15: fibrosis of the papillary dermis\n",
    "     16: exocytosis\n",
    "     17: acanthosis\n",
    "     18: hyperkeratosis\n",
    "     19: parakeratosis\n",
    "     20: clubbing of the rete ridges\n",
    "     21: elongation of the rete ridges\n",
    "     22: thinning of the suprapapillary epidermis\n",
    "     23: spongiform pustule\n",
    "     24: munro microabcess\n",
    "     25: focal hypergranulosis\n",
    "     26: disappearance of the granular layer\n",
    "     27: vacuolisation and damage of basal layer\n",
    "     28: spongiosis\n",
    "     29: saw-tooth appearance of retes\n",
    "     30: follicular horn plug\n",
    "     31: perifollicular parakeratosis\n",
    "     32: inflammatory monoluclear inflitrate\n",
    "     33: band-like infiltrate\n",
    "     \n",
    "Missing Attribute Values: 8 (in Age attribute). Distinguished with '?'.\n",
    "\n",
    "Class Distribution:\n",
    "       Database:  Dermatology\n",
    "       \n",
    "       Class code:   Class:                  Number of instances:\n",
    "       1             psoriasis\t\t\t            112\n",
    "       2             seboreic dermatitis             61\n",
    "       3             lichen planus                   72\n",
    "       4             pityriasis rosea                49\n",
    "       5             cronic dermatitis               52    \n",
    "       6             pityriasis rubra pilaris        2\n"
   ]
  },
  {
   "cell_type": "code",
   "execution_count": 3,
   "metadata": {},
   "outputs": [],
   "source": [
    "import pandas as pd\n",
    "import numpy as np\n",
    "from sklearn.model_selection import train_test_split\n",
    "from sklearn.preprocessing import StandardScaler\n",
    "from sklearn.neighbors import KNeighborsClassifier\n",
    "from sklearn.metrics import accuracy_score\n",
    "import warnings\n",
    "warnings.filterwarnings(\"ignore\")\n",
    "import matplotlib.pyplot as plt\n",
    "import seaborn as sns"
   ]
  },
  {
   "cell_type": "code",
   "execution_count": 4,
   "metadata": {},
   "outputs": [],
   "source": [
    "data=pd.read_csv(\"C:\\\\Users\\\\admin\\\\Documents\\\\dermatology.csv\", header=None)"
   ]
  },
  {
   "cell_type": "code",
   "execution_count": 5,
   "metadata": {},
   "outputs": [
    {
     "data": {
      "text/html": [
       "<div>\n",
       "<style scoped>\n",
       "    .dataframe tbody tr th:only-of-type {\n",
       "        vertical-align: middle;\n",
       "    }\n",
       "\n",
       "    .dataframe tbody tr th {\n",
       "        vertical-align: top;\n",
       "    }\n",
       "\n",
       "    .dataframe thead th {\n",
       "        text-align: right;\n",
       "    }\n",
       "</style>\n",
       "<table border=\"1\" class=\"dataframe\">\n",
       "  <thead>\n",
       "    <tr style=\"text-align: right;\">\n",
       "      <th></th>\n",
       "      <th>0</th>\n",
       "      <th>1</th>\n",
       "      <th>2</th>\n",
       "      <th>3</th>\n",
       "      <th>4</th>\n",
       "      <th>5</th>\n",
       "      <th>6</th>\n",
       "      <th>7</th>\n",
       "      <th>8</th>\n",
       "      <th>9</th>\n",
       "      <th>...</th>\n",
       "      <th>25</th>\n",
       "      <th>26</th>\n",
       "      <th>27</th>\n",
       "      <th>28</th>\n",
       "      <th>29</th>\n",
       "      <th>30</th>\n",
       "      <th>31</th>\n",
       "      <th>32</th>\n",
       "      <th>33</th>\n",
       "      <th>34</th>\n",
       "    </tr>\n",
       "  </thead>\n",
       "  <tbody>\n",
       "    <tr>\n",
       "      <th>0</th>\n",
       "      <td>2</td>\n",
       "      <td>2</td>\n",
       "      <td>0</td>\n",
       "      <td>3</td>\n",
       "      <td>0</td>\n",
       "      <td>0</td>\n",
       "      <td>0</td>\n",
       "      <td>0</td>\n",
       "      <td>1</td>\n",
       "      <td>0</td>\n",
       "      <td>...</td>\n",
       "      <td>0</td>\n",
       "      <td>0</td>\n",
       "      <td>3</td>\n",
       "      <td>0</td>\n",
       "      <td>0</td>\n",
       "      <td>0</td>\n",
       "      <td>1</td>\n",
       "      <td>0</td>\n",
       "      <td>55</td>\n",
       "      <td>2</td>\n",
       "    </tr>\n",
       "    <tr>\n",
       "      <th>1</th>\n",
       "      <td>3</td>\n",
       "      <td>3</td>\n",
       "      <td>3</td>\n",
       "      <td>2</td>\n",
       "      <td>1</td>\n",
       "      <td>0</td>\n",
       "      <td>0</td>\n",
       "      <td>0</td>\n",
       "      <td>1</td>\n",
       "      <td>1</td>\n",
       "      <td>...</td>\n",
       "      <td>0</td>\n",
       "      <td>0</td>\n",
       "      <td>0</td>\n",
       "      <td>0</td>\n",
       "      <td>0</td>\n",
       "      <td>0</td>\n",
       "      <td>1</td>\n",
       "      <td>0</td>\n",
       "      <td>8</td>\n",
       "      <td>1</td>\n",
       "    </tr>\n",
       "    <tr>\n",
       "      <th>2</th>\n",
       "      <td>2</td>\n",
       "      <td>1</td>\n",
       "      <td>2</td>\n",
       "      <td>3</td>\n",
       "      <td>1</td>\n",
       "      <td>3</td>\n",
       "      <td>0</td>\n",
       "      <td>3</td>\n",
       "      <td>0</td>\n",
       "      <td>0</td>\n",
       "      <td>...</td>\n",
       "      <td>0</td>\n",
       "      <td>2</td>\n",
       "      <td>3</td>\n",
       "      <td>2</td>\n",
       "      <td>0</td>\n",
       "      <td>0</td>\n",
       "      <td>2</td>\n",
       "      <td>3</td>\n",
       "      <td>26</td>\n",
       "      <td>3</td>\n",
       "    </tr>\n",
       "    <tr>\n",
       "      <th>3</th>\n",
       "      <td>2</td>\n",
       "      <td>2</td>\n",
       "      <td>2</td>\n",
       "      <td>0</td>\n",
       "      <td>0</td>\n",
       "      <td>0</td>\n",
       "      <td>0</td>\n",
       "      <td>0</td>\n",
       "      <td>3</td>\n",
       "      <td>2</td>\n",
       "      <td>...</td>\n",
       "      <td>3</td>\n",
       "      <td>0</td>\n",
       "      <td>0</td>\n",
       "      <td>0</td>\n",
       "      <td>0</td>\n",
       "      <td>0</td>\n",
       "      <td>3</td>\n",
       "      <td>0</td>\n",
       "      <td>40</td>\n",
       "      <td>1</td>\n",
       "    </tr>\n",
       "    <tr>\n",
       "      <th>4</th>\n",
       "      <td>2</td>\n",
       "      <td>3</td>\n",
       "      <td>2</td>\n",
       "      <td>2</td>\n",
       "      <td>2</td>\n",
       "      <td>2</td>\n",
       "      <td>0</td>\n",
       "      <td>2</td>\n",
       "      <td>0</td>\n",
       "      <td>0</td>\n",
       "      <td>...</td>\n",
       "      <td>2</td>\n",
       "      <td>3</td>\n",
       "      <td>2</td>\n",
       "      <td>3</td>\n",
       "      <td>0</td>\n",
       "      <td>0</td>\n",
       "      <td>2</td>\n",
       "      <td>3</td>\n",
       "      <td>45</td>\n",
       "      <td>3</td>\n",
       "    </tr>\n",
       "  </tbody>\n",
       "</table>\n",
       "<p>5 rows × 35 columns</p>\n",
       "</div>"
      ],
      "text/plain": [
       "   0   1   2   3   4   5   6   7   8   9  ...  25  26  27  28  29  30  31  32  \\\n",
       "0   2   2   0   3   0   0   0   0   1   0 ...   0   0   3   0   0   0   1   0   \n",
       "1   3   3   3   2   1   0   0   0   1   1 ...   0   0   0   0   0   0   1   0   \n",
       "2   2   1   2   3   1   3   0   3   0   0 ...   0   2   3   2   0   0   2   3   \n",
       "3   2   2   2   0   0   0   0   0   3   2 ...   3   0   0   0   0   0   3   0   \n",
       "4   2   3   2   2   2   2   0   2   0   0 ...   2   3   2   3   0   0   2   3   \n",
       "\n",
       "   33  34  \n",
       "0  55   2  \n",
       "1   8   1  \n",
       "2  26   3  \n",
       "3  40   1  \n",
       "4  45   3  \n",
       "\n",
       "[5 rows x 35 columns]"
      ]
     },
     "execution_count": 5,
     "metadata": {},
     "output_type": "execute_result"
    }
   ],
   "source": [
    "data.head(5)"
   ]
  },
  {
   "cell_type": "code",
   "execution_count": 6,
   "metadata": {},
   "outputs": [],
   "source": [
    "data.shape\n",
    "d=np.array(data)     "
   ]
  },
  {
   "cell_type": "code",
   "execution_count": 7,
   "metadata": {},
   "outputs": [
    {
     "name": "stdout",
     "output_type": "stream",
     "text": [
      "Number of Instances:  366\n",
      "Number of Attributes:  34\n"
     ]
    }
   ],
   "source": [
    "print(\"Number of Instances: \",d.shape[0])\n",
    "print(\"Number of Attributes: \",d.shape[1]-1)"
   ]
  },
  {
   "cell_type": "code",
   "execution_count": 8,
   "metadata": {},
   "outputs": [],
   "source": [
    "classes=['psoriasis','seboreic dermatitis','lichen planus','pityriasis rosea','cronic dermatitis','pityriasis rubra pilaris']"
   ]
  },
  {
   "cell_type": "code",
   "execution_count": 9,
   "metadata": {},
   "outputs": [],
   "source": [
    "x=d[:,0:34]\n",
    "y=d[:,-1]"
   ]
  },
  {
   "cell_type": "code",
   "execution_count": 10,
   "metadata": {},
   "outputs": [
    {
     "name": "stdout",
     "output_type": "stream",
     "text": [
      "(366, 34) (366,)\n"
     ]
    }
   ],
   "source": [
    "print(x.shape,y.shape)"
   ]
  },
  {
   "cell_type": "code",
   "execution_count": 11,
   "metadata": {},
   "outputs": [
    {
     "name": "stdout",
     "output_type": "stream",
     "text": [
      "psoriasis = 112\n",
      "seboreic dermatitis = 61\n",
      "lichen planus = 72\n",
      "pityriasis rosea = 49\n",
      "cronic dermatitis = 52\n",
      "pityriasis rubra pilaris = 20\n"
     ]
    }
   ],
   "source": [
    "unique, counts = np.unique(y, return_counts=True)\n",
    "for i in range(0,6):\n",
    "    print (classes[i],\"=\",counts[i])\n"
   ]
  },
  {
   "cell_type": "code",
   "execution_count": 12,
   "metadata": {},
   "outputs": [],
   "source": [
    "mean=0\n",
    "count=0\n",
    "for i in range(0,365):\n",
    "    if(x[i][33]!='?'):\n",
    "        x[i][33]=int(x[i][33])\n",
    "for i in range(0,365):\n",
    "    if(x[i][33]!='?'):\n",
    "        mean+=x[i][33]\n",
    "        count+=1\n",
    "mean//=count\n",
    "for i in range(0,365):\n",
    "    if(x[i][33]=='?'):\n",
    "        x[i][33]=mean\n",
    "        \n",
    "        \n",
    "        "
   ]
  },
  {
   "cell_type": "code",
   "execution_count": 13,
   "metadata": {},
   "outputs": [],
   "source": [
    "x_train, x_test, y_train, y_test=train_test_split(x,y,test_size=0.3, random_state=0)"
   ]
  },
  {
   "cell_type": "code",
   "execution_count": 14,
   "metadata": {},
   "outputs": [],
   "source": [
    "x_train=x_train.astype('int')\n",
    "x_test=x_test.astype('int')\n",
    "y_test=y_test.astype('int')\n",
    "y_train=y_train.astype('int')"
   ]
  },
  {
   "cell_type": "code",
   "execution_count": 15,
   "metadata": {},
   "outputs": [],
   "source": [
    "sc=StandardScaler()\n",
    "sc.fit(x_train)\n",
    "x_train_std=sc.transform(x_train)\n",
    "x_test_std=sc.transform(x_test)"
   ]
  },
  {
   "cell_type": "markdown",
   "metadata": {},
   "source": [
    "# Accuracy for KNN K=6"
   ]
  },
  {
   "cell_type": "code",
   "execution_count": 16,
   "metadata": {},
   "outputs": [
    {
     "name": "stdout",
     "output_type": "stream",
     "text": [
      "Misclassified Samples: 1\n",
      "Accuracy: 0.99\n"
     ]
    }
   ],
   "source": [
    "knn=KNeighborsClassifier(n_neighbors=6)\n",
    "knn.fit(x_train_std, y_train)\n",
    "y_pred=knn.predict(x_test_std)\n",
    "print(\"Misclassified Samples: %d\" %(y_test !=y_pred).sum())\n",
    "print (\"Accuracy: %.2f\" %accuracy_score(y_test,y_pred))"
   ]
  },
  {
   "cell_type": "code",
   "execution_count": 17,
   "metadata": {},
   "outputs": [
    {
     "data": {
      "image/png": "[encoded data removed]",
      "text/plain": [
       "<Figure size 1080x720 with 1 Axes>"
      ]
     },
     "metadata": {},
     "output_type": "display_data"
    }
   ],
   "source": [
    "k=[]\n",
    "test=[]\n",
    "for i in range(1,11):\n",
    "    c=0\n",
    "    knn=KNeighborsClassifier(n_neighbors=i)\n",
    "    knn.fit(x_train_std, y_train)\n",
    "    y_pred=knn.predict(x_test_std)\n",
    "    k.append(i)\n",
    "    test.append(accuracy_score(y_test,y_pred))    \n",
    "plt.figure(figsize=(15,10))\n",
    "plt.plot(k,test)\n",
    "plt.xlabel(\"K-Value\")\n",
    "plt.ylabel(\"Accuracy\")\n",
    "plt.title(\"Best K values between k=1 to k=10\")\n",
    "plt.grid()\n",
    "plt.xlim(right=10)\n",
    "plt.xlim(left=1)\n",
    "plt.ylim(top=1)\n",
    "plt.ylim(bottom=0.93)\n",
    "plt.show()\n",
    "    "
   ]
  },
  {
   "cell_type": "markdown",
   "metadata": {},
   "source": [
    "# Best K value between K=1 to K=10\n",
    "### Best K=5,6"
   ]
  }
 ],
 "metadata": {
  "kernelspec": {
   "display_name": "Python 3",
   "language": "python",
   "name": "python3"
  },
  "language_info": {
   "codemirror_mode": {
    "name": "ipython",
    "version": 3
   },
   "file_extension": ".py",
   "mimetype": "text/x-python",
   "name": "python",
   "nbconvert_exporter": "python",
   "pygments_lexer": "ipython3",
   "version": "3.6.5"
  }
 },
 "nbformat": 4,
 "nbformat_minor": 2
}
